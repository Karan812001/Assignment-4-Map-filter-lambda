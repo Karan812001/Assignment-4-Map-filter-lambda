{
 "cells": [
  {
   "cell_type": "code",
   "execution_count": 1,
   "id": "69ed2539",
   "metadata": {},
   "outputs": [
    {
     "name": "stdout",
     "output_type": "stream",
     "text": [
      "35\n"
     ]
    }
   ],
   "source": [
    "#Q1 Write a Python program to create a lambda function that adds 25 to a given number passed in as an argument.\n",
    "#Ans\n",
    "\n",
    "r = lambda a : a + 25\n",
    "print(r(10))\n",
    "\n",
    "\n"
   ]
  },
  {
   "cell_type": "code",
   "execution_count": 4,
   "id": "835e6236",
   "metadata": {},
   "outputs": [
    {
     "name": "stdout",
     "output_type": "stream",
     "text": [
      "Sample list:  [1, 2, 3, 4, 5, 6, 7]\n",
      "Triple of list Number:\n",
      " [3, 6, 9, 12, 15, 18, 21]\n"
     ]
    }
   ],
   "source": [
    "#Write a Python program to triple all numbers of a given list of integers. Use Python map\n",
    "#Ans\n",
    "l=[1,2,3,4,5,6,7]\n",
    "print(\"Sample list: \",l)\n",
    "r= map(lambda x: x + x + x,l) \n",
    "print(\"Triple of list Number:\\n\",list(r))\n",
    "\n"
   ]
  },
  {
   "cell_type": "code",
   "execution_count": 5,
   "id": "afd716ba",
   "metadata": {},
   "outputs": [
    {
     "name": "stdout",
     "output_type": "stream",
     "text": [
      "Sample List:  [4, 5, 2, 9]\n",
      "Square the elements of the list:\n",
      "[16, 25, 4, 81]\n"
     ]
    }
   ],
   "source": [
    "# Write a Python program to square the elements of a list using map() function.\n",
    "#Ans\n",
    "\n",
    "def sq_number(n):\n",
    "  return n * n\n",
    "m= [4, 5, 2, 9]\n",
    "print(\"Sample List: \",m)\n",
    "s= map(sq_number,m)\n",
    "print(\"Square the elements of the list:\")\n",
    "print(list(s))"
   ]
  },
  {
   "cell_type": "code",
   "execution_count": null,
   "id": "5cd944b1",
   "metadata": {},
   "outputs": [],
   "source": []
  }
 ],
 "metadata": {
  "kernelspec": {
   "display_name": "Python 3 (ipykernel)",
   "language": "python",
   "name": "python3"
  },
  "language_info": {
   "codemirror_mode": {
    "name": "ipython",
    "version": 3
   },
   "file_extension": ".py",
   "mimetype": "text/x-python",
   "name": "python",
   "nbconvert_exporter": "python",
   "pygments_lexer": "ipython3",
   "version": "3.9.6"
  }
 },
 "nbformat": 4,
 "nbformat_minor": 5
}
